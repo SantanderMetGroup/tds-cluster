{
 "cells": [
  {
   "cell_type": "markdown",
   "metadata": {
    "viewer_info": {
     "accept_all": true,
     "order": 1
    }
   },
   "source": [
    "# Virtual compute platform (climate services AEMET-CSIC)\n",
    "\n",
    "<img style='display:block;' src='https://pti.climate.ifca.es/assets/logo.ed75329f.png'/>\n",
    "\n",
    "<img src='https://raw.githubusercontent.com/SantanderMetGroup/climate4R/master/man/figures/climate4R_logo.svg' alt='climate4R Logo' style='float: right'/>\n",
    "\n",
    "The virtual compute platform provides reproducibility and reusability services for data produced by climate services from AEMET-CSIC, developed under the framework of the <a href='http://pti-clima.csic.es'>PTI-Clima</a>. Built on top of Jupyter Notebooks that allow the execution of code in R and Python, it integrates data available at the reginal climate storage system. It is an additional tool that supports the developments performed under **climate4R**, an ecosystem of R packages for transparent data access of climate data and its manipulation, including data interpolation, bias correction, downscaling and visualization. More info available at [GitHub repository](https://github.com/SantanderMetGroup/climate4R).\n",
    "\n",
    "## Dependencies\n",
    "\n",
    "```bash\n",
    "conda install -c conda-forge r-loader r-transformer r-visualizer\n",
    "```"
   ]
  },
  {
   "cell_type": "code",
   "execution_count": null,
   "metadata": {},
   "outputs": [],
   "source": [
    "library(climate4R.UDG)\n",
    "library(loadeR)\n",
    "library(transformeR)\n",
    "library(visualizeR)\n",
    "library(dplyr)"
   ]
  },
  {
   "cell_type": "code",
   "execution_count": null,
   "metadata": {},
   "outputs": [],
   "source": [
    "dataset.name = \"{{datasetName}}\";"
   ]
  },
  {
   "cell_type": "markdown",
   "metadata": {},
   "source": [
    "## OPeNDAP data access"
   ]
  },
  {
   "cell_type": "code",
   "execution_count": null,
   "metadata": {},
   "outputs": [],
   "source": [
    "df<-read.csv(\"https://data.meteo.unican.es/inventory.csv\")\n",
    "dataset.url<-df %>% filter(endsWith(location, dataset.name)) %>% pull(location)"
   ]
  },
  {
   "cell_type": "code",
   "execution_count": null,
   "metadata": {},
   "outputs": [],
   "source": [
    "di<-dataInventory(dataset.url)"
   ]
  },
  {
   "cell_type": "code",
   "execution_count": null,
   "metadata": {},
   "outputs": [],
   "source": [
    "di"
   ]
  }
 ],
 "metadata": {
  "kernelspec": {
   "display_name": "R",
   "language": "R",
   "name": "ir"
  },
  "language_info": {
   "codemirror_mode": "r",
   "file_extension": ".r",
   "mimetype": "text/x-r-source",
   "name": "R",
   "pygments_lexer": "r",
   "version": "4.3.2"
  },
  "viewer_info": {
   "accepts": {},
   "description": "The TDS default viewer attempts to plot any Variable contained in the Dataset."
  }
 },
 "nbformat": 4,
 "nbformat_minor": 4
}
